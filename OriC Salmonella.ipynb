{
 "cells": [
  {
   "cell_type": "markdown",
   "metadata": {},
   "source": [
    "Skew diagram - difference between G and C. On forward (lagging) - G is high and C is low. On reverse (leading) - C is high and G is low"
   ]
  },
  {
   "cell_type": "code",
   "execution_count": null,
   "metadata": {},
   "outputs": [
    {
     "data": {
      "text/plain": [
       "[13, 14]"
      ]
     },
     "execution_count": 1,
     "metadata": {},
     "output_type": "execute_result"
    }
   ],
   "source": [
    "import numpy as np\n",
    "\n",
    "def SkewDiagram(genome):\n",
    "    \"\"\"\n",
    "    Computes the skew diagram of a genome sequence.  \n",
    "    Skew is defined as the cumulative difference between the counts of 'G' and 'C' nucleotides.\n",
    "    The function returns the positions (indices) where the skew is minimal.\n",
    "\n",
    "    Args:\n",
    "        genome (str): DNA sequence (genome).\n",
    "\n",
    "    Returns:\n",
    "        list: List of indices where the skew reaches its minimum value.\n",
    "    \"\"\"\n",
    "    skew = [0] * (len(genome) + 1)  # Initialize skew list with 0 at position 0\n",
    "\n",
    "    for i in range(len(genome)):\n",
    "        if genome[i] == 'C':\n",
    "            skew[i + 1] = skew[i] - 1  # Decrement skew for 'C'\n",
    "        elif genome[i] == 'G':\n",
    "            skew[i + 1] = skew[i] + 1  # Increment skew for 'G'\n",
    "        else:\n",
    "            skew[i + 1] = skew[i]      # No change for other nucleotides\n",
    "\n",
    "    # Find indices where skew reaches its minimum value\n",
    "    min_skew = np.where(np.array(skew) == np.min(skew))\n",
    "    return min_skew[0].tolist()\n",
    "\n",
    "\n",
    "def read_genome_from_file(file_path):\n",
    "    \"\"\"\n",
    "    Reads a genome sequence from a FASTA file, ignoring header lines.\n",
    "\n",
    "    Args:\n",
    "        file_path (str): Path to the FASTA file.\n",
    "\n",
    "    Returns:\n",
    "        str: Concatenated genome sequence.\n",
    "    \"\"\"\n",
    "    genome = ''\n",
    "    with open(file_path, 'r') as file:\n",
    "        for line in file:\n",
    "            if not line.startswith('>'):  # Skip header lines starting with '>'\n",
    "                genome += line.strip()    # Remove newline and append\n",
    "    return genome\n",
    "\n",
    "\n",
    "# Example usage\n",
    "SkewDiagram('GCATACACTTCCCAGTAGGTACTG')\n"
   ]
  },
  {
   "cell_type": "code",
   "execution_count": 2,
   "metadata": {},
   "outputs": [
    {
     "data": {
      "text/plain": [
       "43"
      ]
     },
     "execution_count": 2,
     "metadata": {},
     "output_type": "execute_result"
    }
   ],
   "source": [
    "def HammingDistance(seq1, seq2):\n",
    "    count = 0\n",
    "    for n,j in zip(seq1, seq2):\n",
    "        if n != j:\n",
    "            count += 1\n",
    "        else:\n",
    "            pass\n",
    "    return count\n",
    "\n",
    "seq1 = 'CTTGAAGTGGACCTCTAGTTCCTCTACAAAGAACAGGTTGACCTGTCGCGAAG'\n",
    "seq2 = 'ATGCCTTACCTAGATGCAATGACGGACGTATTCCTTTTGCCTCAACGGCTCCT'\n",
    "\n",
    "HammingDistance(seq1, seq2)"
   ]
  },
  {
   "cell_type": "markdown",
   "metadata": {},
   "source": [
    "Approximate Pattern Matching Problem"
   ]
  },
  {
   "cell_type": "code",
   "execution_count": 3,
   "metadata": {},
   "outputs": [
    {
     "data": {
      "text/plain": [
       "8"
      ]
     },
     "execution_count": 3,
     "metadata": {},
     "output_type": "execute_result"
    }
   ],
   "source": [
    "def ApproximateMatch(pattern, text, k):\n",
    "    indices = []\n",
    "    for i in range(len(text) - len(pattern) + 1):\n",
    "        if HammingDistance(pattern, text[i:i+len(pattern)]) <= k:\n",
    "            indices.append(i)\n",
    "\n",
    "    return len(indices)\n",
    "\n",
    "pattern = 'TGT'\n",
    "k = 1\n",
    "text = 'CGTGACAGTGTATGGGCATCTTT'\n",
    "ApproximateMatch(pattern, text, k)"
   ]
  },
  {
   "cell_type": "markdown",
   "metadata": {},
   "source": [
    "Most Frequent k-mer with up to d mismatches"
   ]
  },
  {
   "cell_type": "code",
   "execution_count": 1,
   "metadata": {},
   "outputs": [
    {
     "name": "stdout",
     "output_type": "stream",
     "text": [
      "31\n"
     ]
    }
   ],
   "source": [
    "def ApproximateMatch(pattern, text, d):\n",
    "    \"\"\"\n",
    "    Finds all starting indices where 'pattern' appears in 'text' with at most 'd' mismatches.\n",
    "\n",
    "    Args:\n",
    "        pattern (str): Pattern to search for.\n",
    "        text (str): Text to search within.\n",
    "        d (int): Maximum number of mismatches allowed.\n",
    "\n",
    "    Returns:\n",
    "        list: List of starting indices where the pattern approximately matches the text.\n",
    "    \"\"\"\n",
    "    indices = []\n",
    "    for i in range(len(text) - len(pattern) + 1):\n",
    "        if HammingDistance(pattern, text[i:i+len(pattern)]) <= d:\n",
    "            indices.append(i)\n",
    "    return indices\n",
    "\n",
    "\n",
    "def Neighbors(pattern, d):\n",
    "    \"\"\"\n",
    "    Recursively generates the d-neighborhood of a pattern (i.e. all strings within d mismatches).\n",
    "\n",
    "    Args:\n",
    "        pattern (str): DNA string.\n",
    "        d (int): Maximum number of mismatches.\n",
    "\n",
    "    Returns:\n",
    "        set: Set of strings within d mismatches of the pattern.\n",
    "    \"\"\"\n",
    "    if d == 0:\n",
    "        return {pattern}\n",
    "    if len(pattern) == 1:\n",
    "        return {'A', 'C', 'G', 'T'}\n",
    "    \n",
    "    alphabet = {'A', 'C', 'G', 'T'}\n",
    "    neighbors = set()\n",
    "    suffix_neighbors = Neighbors(pattern[1:], d)\n",
    "\n",
    "    for text in suffix_neighbors:\n",
    "        # If suffix is within d-1, we can afford to mutate first character\n",
    "        if HammingDistance(pattern[1:], text) < d:\n",
    "            for nucleotide in alphabet:\n",
    "                neighbors.add(nucleotide + text)\n",
    "        else:\n",
    "            neighbors.add(pattern[0] + text)\n",
    "    return neighbors\n",
    "\n",
    "\n",
    "def ImmediateNeighbors(pattern):\n",
    "    \"\"\"\n",
    "    Returns all patterns that differ from the input pattern by **exactly one** character.\n",
    "\n",
    "    Args:\n",
    "        pattern (str): DNA string.\n",
    "\n",
    "    Returns:\n",
    "        set: Set of strings differing by one character.\n",
    "    \"\"\"\n",
    "    neighbors = set()\n",
    "    alphabet = {'A', 'C', 'G', 'T'}\n",
    "    for i in range(len(pattern)):\n",
    "        for nucleotide in alphabet:\n",
    "            if nucleotide != pattern[i]:\n",
    "                neighbors.add(pattern[:i] + nucleotide + pattern[i+1:])\n",
    "    return neighbors\n",
    "\n",
    "\n",
    "def IterativeNeighbors(pattern, d):\n",
    "    \"\"\"\n",
    "    Iteratively builds the d-neighborhood of a pattern using immediate neighbors.\n",
    "\n",
    "    Args:\n",
    "        pattern (str): DNA pattern.\n",
    "        d (int): Maximum Hamming distance.\n",
    "\n",
    "    Returns:\n",
    "        set: All patterns within d mismatches of input pattern.\n",
    "    \"\"\"\n",
    "    neighborhood = {pattern}\n",
    "    for j in range(d):\n",
    "        new_neighbors = set()\n",
    "        for pattern_prime in neighborhood:\n",
    "            new_neighbors.update(ImmediateNeighbors(pattern_prime))\n",
    "        neighborhood.update(new_neighbors)\n",
    "    return neighborhood\n",
    "\n",
    "\n",
    "def MostFrequentKmer(text, d, k):\n",
    "    \"\"\"\n",
    "    Finds the most frequent k-mers (and their reverse complements) with at most d mismatches.\n",
    "\n",
    "    Args:\n",
    "        text (str): Input DNA sequence.\n",
    "        d (int): Allowed mismatches.\n",
    "        k (int): Length of k-mer.\n",
    "\n",
    "    Returns:\n",
    "        str: Space-separated string of most frequent k-mers.\n",
    "    \"\"\"\n",
    "    freqmap = {}\n",
    "    patterns = []\n",
    "\n",
    "    for j in range(len(text) - k + 1):\n",
    "        pattern = text[j:j+k]\n",
    "        pattern_rc = sequencecomplement(pattern)\n",
    "\n",
    "        # Neighborhoods for both pattern and its reverse complement\n",
    "        neighborhood = Neighbors(pattern, d)\n",
    "        neighborhood_rc = Neighbors(pattern_rc, d)\n",
    "\n",
    "        for neighbor in neighborhood:\n",
    "            freqmap[neighbor] = freqmap.get(neighbor, 0) + 1\n",
    "\n",
    "        for neighbor in neighborhood_rc:\n",
    "            rc_neighbor = sequencecomplement(neighbor)\n",
    "            freqmap[rc_neighbor] = freqmap.get(rc_neighbor, 0) + 1\n",
    "\n",
    "    # Find max frequency\n",
    "    max_freq = max(freqmap.values())\n",
    "    for pattern in freqmap:\n",
    "        if freqmap[pattern] == max_freq:\n",
    "            patterns.append(pattern)\n",
    "\n",
    "    return ' '.join(map(str, patterns))\n",
    "\n",
    "\n",
    "def sequencecomplement(seq):\n",
    "    \"\"\"\n",
    "    Computes the reverse complement of a DNA sequence.\n",
    "\n",
    "    Args:\n",
    "        seq (str): DNA string.\n",
    "\n",
    "    Returns:\n",
    "        str: Reverse complement of the input sequence.\n",
    "    \"\"\"\n",
    "    return complement(reverse(seq))\n",
    "\n",
    "\n",
    "def reverse(seq):\n",
    "    \"\"\"\n",
    "    Reverses a DNA string.\n",
    "\n",
    "    Args:\n",
    "        seq (str): DNA string.\n",
    "\n",
    "    Returns:\n",
    "        str: Reversed string.\n",
    "    \"\"\"\n",
    "    return seq[::-1]\n",
    "\n",
    "\n",
    "def complement(seq):\n",
    "    \"\"\"\n",
    "    Returns the complement of a DNA string.\n",
    "\n",
    "    Args:\n",
    "        seq (str): DNA string.\n",
    "\n",
    "    Returns:\n",
    "        str: Complemented string.\n",
    "    \"\"\"\n",
    "    basecomplement = {\n",
    "        'A':'T', 'T':'A', 'C':'G', 'G':'C',\n",
    "        'a':'t', 't':'a', 'c':'g', 'g':'c',\n",
    "        'N':'N', 'n':'n'\n",
    "    }\n",
    "    letters = [basecomplement[base] for base in seq]\n",
    "    return ''.join(letters)\n",
    "\n",
    "\n",
    "# Example usage:\n",
    "text = 'CCAGTCAATG'\n",
    "d = 1\n",
    "k = 10\n",
    "\n",
    "# Print number of neighbors within Hamming distance d\n",
    "print(len(IterativeNeighbors(text, d)))\n"
   ]
  },
  {
   "cell_type": "code",
   "execution_count": null,
   "metadata": {},
   "outputs": [],
   "source": [
    "def MostFrequentKmer(text, d, k):\n",
    "    \"\"\"\n",
    "    Finds the most frequent k-mers (and their reverse complements) in a DNA sequence\n",
    "    allowing up to d mismatches.\n",
    "\n",
    "    Args:\n",
    "        text (str): DNA sequence.\n",
    "        d (int): Maximum number of mismatches.\n",
    "        k (int): Length of k-mers.\n",
    "\n",
    "    Returns:\n",
    "        str: Space-separated string of most frequent k-mers.\n",
    "    \"\"\"\n",
    "    freqmap = {}\n",
    "    patterns = []\n",
    "\n",
    "    for j in range(len(text) - k + 1):\n",
    "        pattern = text[j:j+k]\n",
    "        pattern_rc = sequencecomplement(pattern)\n",
    "\n",
    "        # Generate all k-mers within d mismatches (neighborhood) of pattern and its reverse complement\n",
    "        neighborhood = Neighbors(pattern, d)\n",
    "        neighborhood_rc = Neighbors(pattern_rc, d)\n",
    "\n",
    "        for neighbor in neighborhood:\n",
    "            freqmap[neighbor] = freqmap.get(neighbor, 0) + 1\n",
    "\n",
    "        for neighbor_rc in neighborhood_rc:\n",
    "            freqmap[neighbor_rc] = freqmap.get(neighbor_rc, 0) + 1\n",
    "\n",
    "    # Find the maximum frequency\n",
    "    m = max(freqmap.values())\n",
    "\n",
    "    # Collect all patterns that occur with maximum frequency\n",
    "    for pattern in freqmap:\n",
    "        if freqmap[pattern] == m:\n",
    "            patterns.append(pattern)\n",
    "\n",
    "    return ' '.join(map(str, patterns))\n",
    "\n",
    "\n",
    "def MismatchedClump(text, d, k, L, t):\n",
    "    \"\"\"\n",
    "    Finds all k-mers forming (L, t, d)-clumps in a DNA sequence. A (L, t, d)-clump is a k-mer that appears\n",
    "    at least t times (with up to d mismatches) within a window of length L.\n",
    "\n",
    "    Args:\n",
    "        text (str): Input DNA sequence.\n",
    "        d (int): Maximum number of mismatches.\n",
    "        k (int): Length of k-mers.\n",
    "        L (int): Window length.\n",
    "        t (int): Minimum number of (approximate) occurrences in the window.\n",
    "\n",
    "    Returns:\n",
    "        list: List of distinct k-mers forming (L, t, d)-clumps.\n",
    "    \"\"\"\n",
    "    patterns = set()  # Store resulting patterns\n",
    "    freqmap = {}\n",
    "\n",
    "    for i in range(len(text) - L + 1):\n",
    "        window = text[i:i+L]\n",
    "        freqmap = {}\n",
    "\n",
    "        # Count all approximate k-mers (and their reverse complements) in the window\n",
    "        for j in range(len(window) - k + 1):\n",
    "            pattern = window[j:j+k]\n",
    "            pattern_rc = sequencecomplement(pattern)\n",
    "\n",
    "            neighborhood = Neighbors(pattern, d)\n",
    "            neighborhood_rc = Neighbors(pattern_rc, d)\n",
    "\n",
    "            for neighbor in neighborhood:\n",
    "                freqmap[neighbor] = freqmap.get(neighbor, 0) + 1\n",
    "\n",
    "            for neighbor_rc in neighborhood_rc:\n",
    "                rc = sequencecomplement(neighbor_rc)\n",
    "                freqmap[rc] = freqmap.get(rc, 0) + 1\n",
    "\n",
    "        # Add patterns that meet the threshold\n",
    "        for key, value in freqmap.items():\n",
    "            if value >= t:\n",
    "                patterns.add(key)\n",
    "\n",
    "    return list(patterns)\n"
   ]
  },
  {
   "cell_type": "code",
   "execution_count": 35,
   "metadata": {},
   "outputs": [
    {
     "name": "stdout",
     "output_type": "stream",
     "text": [
      "['ACTTCAGCA', 'AGCGTCTTT', 'AATTCAGCC', 'AGCTCGTAC', 'GCAGATCCC', 'ATCATCAAG', 'CGCTACAGC', 'AGTACACTG', 'GTCCACAGA', 'AACCAATTG', 'CAATTGATG', 'ACAAGTGAT', 'GCCTTTTTA', 'AAATTGATG', 'AACAATTGA', 'TACAGCCTC', 'GTAGAACCC', 'CGATCAAGC', 'AGCTTCTTT', 'CAATACAGC', 'AATTGATGT', 'CAAGTGATG', 'CCAGCACGT', 'ACTACACCA', 'CATCTTTAC', 'AATTGACGA', 'TTCACTGAG', 'CAATTGAAG', 'TCAATTGAT', 'CCACAGGTC', 'ATCCCACCT', 'CAATTGAGG', 'AGTCCAATG', 'AATGCAGTC', 'CCACCGGTA', 'CACTGCAGC', 'CTTTATTAA', 'CAGCTCGTA', 'AAGCAATTG', 'GCCTCTTTA', 'CTTCAGCAT', 'GCAGCATCT', 'ATGATCGTC', 'ATCGGCTTG', 'AAAACAATT', 'AAGTGATGA', 'TCAGCTCGT', 'CACTTCAGC', 'ACCACAGGT', 'AGCCTCTTT', 'CCTCTTTAT', 'GATCGCCTT', 'TCCACAGAG', 'TTGATAAAA', 'TTGATCCCA', 'GATCGTCTT', 'TCATGTGCA', 'ACAATTGAC', 'TTTTCAACA', 'GATCGACTT', 'AGATCCCAA', 'AAAATTGAT', 'GTTCACTGA', 'CAGCATCTT', 'GCATTTTTA', 'ATCCCAGAT', 'AATTGATGC', 'AGCATCTTT', 'CAATTGACG', 'TACACCATC', 'AGCAATTGA', 'AACCAGATC', 'TGATCGCCT', 'AAGATCCCA', 'CGTCTTACA', 'CAGCACGTT', 'CAATGATCG', 'CAAAACAAT', 'CGTATTGCA', 'TGCAATTCA', 'CCCTGATCG', 'GCTTCTTTA', 'TGATCGTCT', 'GCATCTTTA', 'CTACAGCAC', 'GATCCAAGC', 'CAATCAATT', 'CCATCATGC', 'TCCACCGGT', 'TGAAAATCA', 'TACAGCACC', 'CAGCGTCTT', 'ACAGCCTCT', 'TGATCGGCT', 'ACCAATTGA', 'CAGCCTCTT', 'AGCACGTTC', 'AATCAATTG', 'TGCAGCATC', 'ACCAACAAG', 'GCGTCTTTA', 'TGATCGACT', 'GCTACAGCA', 'TTTATGAAA', 'ATCGTCTTT', 'ATTACAGCA', 'ATCAATTGA', 'CAGCTTCTT', 'TTATCCACA', 'GATCCCAAC', 'AGATCCAAG', 'TGATGCGCA', 'TAGATCCAA', 'TAAATCCCA', 'GATCGGCTT', 'AAACAATTG', 'CTGATCGGC', 'AACACGATC', 'CTTTTTAAA', 'CCAATCAAT']\n"
     ]
    }
   ],
   "source": [
    "text = read_genome_from_file('Salmonella_enterica.txt')\n",
    "min_indices = SkewDiagram(text)\n",
    "DnaA = MismatchedClump(text[min_indices[0]-500:min_indices[0]+500], 1, 9, 250, 4)\n",
    "print(DnaA)"
   ]
  },
  {
   "cell_type": "code",
   "execution_count": 43,
   "metadata": {},
   "outputs": [
    {
     "name": "stdout",
     "output_type": "stream",
     "text": [
      "[]\n"
     ]
    }
   ],
   "source": [
    "text = read_genome_from_file('Salmonella_enterica.txt')\n",
    "min_indices = SkewDiagram(text)\n",
    "DnaA = MismatchedClump(text[min_indices[0]-500:min_indices[0]+500], 1, 9, 500, 6)\n",
    "print(DnaA)"
   ]
  },
  {
   "cell_type": "code",
   "execution_count": 40,
   "metadata": {},
   "outputs": [
    {
     "name": "stdout",
     "output_type": "stream",
     "text": [
      "500\n"
     ]
    }
   ],
   "source": [
    "print(len('aatgatgatgacgtcaaaaggatccggataaaacatggtgattgcctcgcataacgcggtatgaaaatggattgaagcccgggccgtggattctactcaactttgtcggcttgagaaagacctgggatcctgggtattaaaaagaagatctatttatttagagatctgttctattgtgatctcttattaggatcgcactgcccTGTGGATAAcaaggatccggcttttaagatcaacaacctggaaaggatcattaactgtgaatgatcggtgatcctggaccgtataagctgggatcagaatgaggggTTATACACAactcaaaaactgaacaacagttgttcTTTGGATAActaccggttgatccaagcttcctgacagagTTATCCACAgtagatcgcacgatctgtatacttatttgagtaaattaacccacgatcccagccattcttctgccggatcttccggaatgtcgtgatcaagaatgttgatcttcagtg'))"
   ]
  },
  {
   "cell_type": "code",
   "execution_count": 34,
   "metadata": {},
   "outputs": [
    {
     "name": "stdout",
     "output_type": "stream",
     "text": [
      "['GCTTCTTTA']\n"
     ]
    }
   ],
   "source": [
    "text = read_genome_from_file('Salmonella_enterica.txt')\n",
    "min_indices = SkewDiagram(text)\n",
    "DnaA = MismatchedClump(text[min_indices[0]-500:min_indices[0]+500], 1, 9, 250, 5)\n",
    "print(DnaA)\n"
   ]
  },
  {
   "cell_type": "code",
   "execution_count": 32,
   "metadata": {},
   "outputs": [
    {
     "name": "stdout",
     "output_type": "stream",
     "text": [
      "120\n"
     ]
    }
   ],
   "source": [
    "print(len(DnaA))"
   ]
  }
 ],
 "metadata": {
  "kernelspec": {
   "display_name": "bioinf",
   "language": "python",
   "name": "python3"
  },
  "language_info": {
   "codemirror_mode": {
    "name": "ipython",
    "version": 3
   },
   "file_extension": ".py",
   "mimetype": "text/x-python",
   "name": "python",
   "nbconvert_exporter": "python",
   "pygments_lexer": "ipython3",
   "version": "3.12.2"
  }
 },
 "nbformat": 4,
 "nbformat_minor": 2
}
